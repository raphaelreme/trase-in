{
 "cells": [
  {
   "cell_type": "markdown",
   "id": "96946aee",
   "metadata": {},
   "source": [
    "# UTOPIA example notebook"
   ]
  },
  {
   "cell_type": "code",
   "execution_count": null,
   "id": "2e9da2ef",
   "metadata": {},
   "outputs": [],
   "source": [
    "import enum\n",
    "import math\n",
    "\n",
    "import cv2\n",
    "import matplotlib.pyplot as plt\n",
    "import numpy as np\n",
    "from PIL import Image\n",
    "import torch\n",
    "import tqdm\n",
    "\n",
    "import byotrack\n",
    "import byotrack.icy.io\n",
    "from byotrack.implementation.refiner.interpolater import ForwardBackwardInterpolater\n",
    "import byotrack.visualize\n",
    "\n",
    "import schya.detrending\n",
    "import schya.extraction\n",
    "import schya.filtering\n",
    "import schya.spike\n",
    "import schya.visualize\n",
    "\n",
    "TEST = False  # Will reduce the size of the video to play with"
   ]
  },
  {
   "cell_type": "markdown",
   "id": "0a070145",
   "metadata": {},
   "source": [
    "## Loading videos"
   ]
  },
  {
   "cell_type": "code",
   "execution_count": null,
   "id": "a8665582",
   "metadata": {},
   "outputs": [],
   "source": [
    "gcamp_path = \"path/to/gcamp_video\"\n",
    "tdtomato_path = \"path/to_tdtomato/video\"\n",
    "\n",
    "gcamp_video = byotrack.Video(gcamp_path)\n",
    "tdtomato_video = byotrack.Video(tdtomato_path)\n",
    "\n",
    "if TEST:\n",
    "    gcamp_video = gcamp_video[:100]\n",
    "    tdtomato_video = tdtomato_video[:100]\n",
    "\n",
    "# Normalize videos into [0, 1]\n",
    "gcamp_video.set_transform(byotrack.VideoTransformConfig(aggregate=True, normalize=True, q_min=0.02, q_max=0.995, smooth_clip=1.0))\n",
    "tdtomato_video.set_transform(byotrack.VideoTransformConfig(aggregate=True, normalize=True, q_min=0.02, q_max=0.995, smooth_clip=1.0))"
   ]
  },
  {
   "cell_type": "code",
   "execution_count": null,
   "id": "951f9a30",
   "metadata": {},
   "outputs": [],
   "source": [
    "# Display the video\n",
    "# Use w/x to move forward in time (or space to run/pause the video)\n",
    "# Use v to display none, green, red or both channels\n",
    "\n",
    "schya.visualize.TwoColorInteractiveVisualizer((tdtomato_video, gcamp_video)).run()"
   ]
  },
  {
   "cell_type": "markdown",
   "id": "66c7ad90",
   "metadata": {},
   "source": [
    "## Track TDTomato"
   ]
  },
  {
   "cell_type": "markdown",
   "id": "658a3d2d",
   "metadata": {},
   "source": [
    "### Loading saved tracks\n",
    "\n",
    "Prevents to rerun the tracking each time"
   ]
  },
  {
   "cell_type": "code",
   "execution_count": null,
   "id": "4fc98843",
   "metadata": {},
   "outputs": [],
   "source": [
    "# Reload tracks saved in the byotrack format\n",
    "\n",
    "tracks = byotrack.Track.load(\"tracks.pt\")"
   ]
  },
  {
   "cell_type": "code",
   "execution_count": null,
   "id": "40432879",
   "metadata": {},
   "outputs": [],
   "source": [
    "# Or reload tracks from Icy xml format\n",
    "\n",
    "tracks = byotrack.icy.io.load_tracks(\"tracks_tdTomato.xml\")"
   ]
  },
  {
   "cell_type": "markdown",
   "id": "b9e33768",
   "metadata": {
    "jp-MarkdownHeadingCollapsed": true
   },
   "source": [
    "### Tracking pipeline"
   ]
  },
  {
   "cell_type": "code",
   "execution_count": null,
   "id": "10153804",
   "metadata": {},
   "outputs": [],
   "source": [
    "from byotrack.implementation.detector.stardist import StarDistDetector\n",
    "from byotrack.implementation.linker.icy_emht import IcyEMHTLinker\n",
    "from byotrack.implementation.refiner.cleaner import Cleaner\n",
    "from byotrack.implementation.refiner.stitching.emc2 import EMC2Stitcher"
   ]
  },
  {
   "cell_type": "markdown",
   "id": "45fd39db",
   "metadata": {},
   "source": [
    "#### Detections"
   ]
  },
  {
   "cell_type": "code",
   "execution_count": null,
   "id": "d3d447c9",
   "metadata": {},
   "outputs": [],
   "source": [
    "model_path = \"path/to/model_folder\"\n",
    "\n",
    "detector = StarDistDetector(model_path, batch_size=1)"
   ]
  },
  {
   "cell_type": "code",
   "execution_count": null,
   "id": "9597ecd0",
   "metadata": {},
   "outputs": [],
   "source": [
    "detections_sequence = detector.run(tdtomato_video)"
   ]
  },
  {
   "cell_type": "code",
   "execution_count": null,
   "id": "de435747",
   "metadata": {},
   "outputs": [],
   "source": [
    "# Display the detections with opencv\n",
    "# Use w/x to move forward in time (or space to run/pause the video)\n",
    "# Use v to switch on/off the display of the video\n",
    "# Use d to switch detection display mode (None, mask, segmentation)\n",
    "\n",
    "byotrack.visualize.InteractiveVisualizer(tdtomato_video, detections_sequence).run()"
   ]
  },
  {
   "cell_type": "markdown",
   "id": "41fdbf2e",
   "metadata": {},
   "source": [
    "#### Build tracklets"
   ]
  },
  {
   "cell_type": "code",
   "execution_count": null,
   "id": "16011578",
   "metadata": {},
   "outputs": [],
   "source": [
    "# Run linking\n",
    "\n",
    "icy_path = \"path/to/icy.jar\"\n",
    "\n",
    "linker = IcyEMHTLinker(icy_path)\n",
    "linker.motion = linker.Motion.BROWNIAN\n",
    "tracklets = linker.run(tdtomato_video, detections_sequence)"
   ]
  },
  {
   "cell_type": "code",
   "execution_count": null,
   "id": "4cb6f07f",
   "metadata": {},
   "outputs": [],
   "source": [
    "# Visualize life span\n",
    "\n",
    "byotrack.visualize.display_lifetime(tracklets)"
   ]
  },
  {
   "cell_type": "markdown",
   "id": "41fb54d0",
   "metadata": {},
   "source": [
    "#### Tracklet stitching"
   ]
  },
  {
   "cell_type": "code",
   "execution_count": null,
   "id": "3e719847",
   "metadata": {},
   "outputs": [],
   "source": [
    "# Cleaning + EMC2\n",
    "\n",
    "cleaner = Cleaner(min_length=5, max_dist=3.5)\n",
    "tracks = cleaner.run(tdtomato_video, tracklets)\n",
    "\n",
    "stitcher = EMC2Stitcher(eta=5.0)  # Don't link tracks if they are too far (EMC dist > 5 (pixels))\n",
    "tracks = stitcher.run(tdtomato_video, tracks)"
   ]
  },
  {
   "cell_type": "code",
   "execution_count": null,
   "id": "da79f6b8",
   "metadata": {},
   "outputs": [],
   "source": [
    "# Visualize new life span\n",
    "\n",
    "byotrack.visualize.display_lifetime(tracks)"
   ]
  },
  {
   "cell_type": "code",
   "execution_count": null,
   "id": "80facf64",
   "metadata": {},
   "outputs": [],
   "source": [
    "# Save tracks\n",
    "\n",
    "byotrack.Track.save(tracks, \"tracks.pt\")  # Can be reload with byotrack.Track.load(\"tracks.pt\")"
   ]
  },
  {
   "cell_type": "markdown",
   "id": "6b5bd137",
   "metadata": {},
   "source": [
    "### Tracks visualization\n",
    "\n",
    "You can export track to icy format and visualize them with icy, or use our own tool of visualization (or build new ones in python)"
   ]
  },
  {
   "cell_type": "code",
   "execution_count": null,
   "id": "91af13b2",
   "metadata": {},
   "outputs": [],
   "source": [
    "# Export track to icy\n",
    "# Needs to fill hole in tracks before saving with Forward backward interpolator\n",
    "\n",
    "interpolater = ForwardBackwardInterpolater(method=\"constant\", full=False)\n",
    "\n",
    "byotrack.icy.io.save_tracks(interpolater.run(tdtomato_video, tracks), \"test.xml\")"
   ]
  },
  {
   "cell_type": "code",
   "execution_count": null,
   "id": "0b96903a",
   "metadata": {},
   "outputs": [],
   "source": [
    "byotrack.visualize.display_lifetime(tracks)"
   ]
  },
  {
   "cell_type": "code",
   "execution_count": null,
   "id": "63a07cc6",
   "metadata": {},
   "outputs": [],
   "source": [
    "# Display the tracks with opencv\n",
    "# Use w/x to move forward in time (or space to run/pause the video)\n",
    "# Use v (resp. t) to switch on/off the display of video (resp. tracks)\n",
    "\n",
    "# You can also give the detections_sequence object to the visualizer\n",
    "# Then, use d to switch detection display mode (None, mask, segmentation)\n",
    "\n",
    "byotrack.visualize.InteractiveVisualizer(tdtomato_video, tracks=tracks).run()"
   ]
  },
  {
   "cell_type": "markdown",
   "id": "24954ac2",
   "metadata": {},
   "source": [
    "## Calcium signal extraction"
   ]
  },
  {
   "cell_type": "markdown",
   "id": "cdb86ccf",
   "metadata": {},
   "source": [
    "### Select long tracks and complete them"
   ]
  },
  {
   "cell_type": "code",
   "execution_count": null,
   "id": "c0bf44e0",
   "metadata": {},
   "outputs": [],
   "source": [
    "from byotrack.implementation.refiner.interpolater import ForwardBackwardInterpolater\n",
    "\n",
    "# keep only big enough tracks (Cover at least 80% of video from start to end)\n",
    "\n",
    "valid_tracks = [len(t) > 0.80 * len(tdtomato_video) for t in tracks]\n",
    "\n",
    "interpolater = ForwardBackwardInterpolater(method=\"tps\", full = True, alpha=10.0)\n",
    "final_tracks = interpolater.run(tdtomato_video, tracks)  # Interpolate using all tracks, and filter afterwards\n",
    "final_tracks = [track for i, track in enumerate(final_tracks) if valid_tracks[i]]\n",
    "\n",
    "print(f\"Kept {len(final_tracks)} valid tracks from {len(tracks)} tracks\")"
   ]
  },
  {
   "cell_type": "markdown",
   "id": "cd66e943",
   "metadata": {},
   "source": [
    "### TdTomato control intensities extraction"
   ]
  },
  {
   "cell_type": "code",
   "execution_count": null,
   "id": "68b8642e",
   "metadata": {},
   "outputs": [],
   "source": [
    "# Extract control intensities from tdtomato sequence\n",
    "\n",
    "ctrl_intensities = schya.extraction.extract_intensities_from_roi(tdtomato_video, final_tracks, 9)"
   ]
  },
  {
   "cell_type": "markdown",
   "id": "eae05e41",
   "metadata": {},
   "source": [
    "### Extract GCsub roi tracking"
   ]
  },
  {
   "cell_type": "code",
   "execution_count": null,
   "id": "6d842c89",
   "metadata": {},
   "outputs": [],
   "source": [
    "raw_intensities, calcium_positions = schya.extraction.SubRoiExtractor(\n",
    "    gcamp_video, \n",
    "    byotrack.Track.tensorize(final_tracks).numpy(),\n",
    "    25,  # Roi size (25 x 25)\n",
    "    4,  # Max relative motion between two consecutive frames\n",
    ").compute()"
   ]
  },
  {
   "cell_type": "code",
   "execution_count": null,
   "id": "f2262d29",
   "metadata": {},
   "outputs": [],
   "source": [
    "# Build the calcium tracks for visualization\n",
    "\n",
    "calcium_tracks = []\n",
    "\n",
    "for k in range(0, len(final_tracks)):\n",
    "    calcium_tracks.append(byotrack.Track(0, torch.tensor(calcium_positions[:, k]).to(torch.float32), final_tracks[k].identifier))"
   ]
  },
  {
   "cell_type": "code",
   "execution_count": null,
   "id": "7669ed47",
   "metadata": {},
   "outputs": [],
   "source": [
    "# Visualize the calcium tracks\n",
    "# Use w/x to move forward in time (or space to run/pause the video)\n",
    "# Use t to display none, green, red or both tracks\n",
    "# Use v to display none, green, red or both channels\n",
    "\n",
    "vis = schya.visualize.TwoColorInteractiveVisualizer((tdtomato_video, gcamp_video), tracks=final_tracks, calcium_tracks=calcium_tracks)\n",
    "\n",
    "vis.scale = 1  # Increase/decrease the size of the display\n",
    "vis._display_video = 3  # GCaMP\n",
    "\n",
    "vis.run()"
   ]
  },
  {
   "cell_type": "markdown",
   "id": "614f8475",
   "metadata": {},
   "source": [
    "### Filtering noise signals"
   ]
  },
  {
   "cell_type": "code",
   "execution_count": null,
   "id": "4c7c21be",
   "metadata": {},
   "outputs": [],
   "source": [
    "# We first detrend using only frequency filtering (See detrending) as ICA creates some artefacts\n",
    "\n",
    "detrended = schya.detrending.high_pass_filter(raw_intensities, 1 / 200)\n",
    "\n",
    "# Then test the Gaussian hypothesis. If rejected with less than thresh p_value, the signal is not noise\n",
    "# Lower values of thresh => More noise\n",
    "\n",
    "thresh = 1e-5\n",
    "\n",
    "is_noise = schya.filtering.is_noise(detrended, thresh)\n",
    "print(f\"Found {is_noise.sum()} noise signals\")"
   ]
  },
  {
   "cell_type": "code",
   "execution_count": null,
   "id": "b0a9d7b9-6522-462e-bb62-ff3b00690411",
   "metadata": {},
   "outputs": [],
   "source": [
    "# Switch to non inline and interactive matplotlib (You may have to run several times)\n",
    "%matplotlib"
   ]
  },
  {
   "cell_type": "code",
   "execution_count": null,
   "id": "75a46258",
   "metadata": {},
   "outputs": [],
   "source": [
    "# Interactive display of filtering\n",
    "# Enable the correction of the filtering steps\n",
    "\n",
    "title  = \"\"\"Batch no {batch_id}/{MAX_BATCH}\n",
    "\n",
    "Please use w/x to increase/decrease the batch id of signals displayed\n",
    "Click on a signal to correct the filtering (Red signals are dropped, blue ones are kept)\n",
    "\"\"\"\n",
    "\n",
    "\n",
    "WIDTH = 4\n",
    "HEIGHT = 4\n",
    "MAX_BATCH = math.ceil(len(raw_intensities) / (WIDTH * HEIGHT))\n",
    "\n",
    "batch_id = 0\n",
    "\n",
    "fig, axs = plt.subplots(HEIGHT, WIDTH, sharex = 'col', sharey='row', figsize=(20, 20))\n",
    "colors = (\"b\", \"r\")\n",
    "\n",
    "\n",
    "def plot():\n",
    "    fig.suptitle(title.format(batch_id=batch_id, MAX_BATCH=MAX_BATCH))\n",
    "    for i in range(HEIGHT):\n",
    "        for j in range(WIDTH):\n",
    "            k = batch_id * WIDTH * HEIGHT + i * WIDTH + j\n",
    "            k = k % len(is_noise)\n",
    "            axs[i, j].clear()\n",
    "            axs[i, j].set_title(\"Rejected\" if is_noise[k] else \"Kept\")\n",
    "            axs[i, j].plot(raw_intensities[k] + 0.4, label=\"Raw intensity\")\n",
    "            axs[i, j].plot(detrended[k], color=colors[int(is_noise[k])], label=\"Detrended intensity\")\n",
    "            axs[i, j].legend()\n",
    "\n",
    "\n",
    "def on_click(event):\n",
    "    \"\"\"Switch the noise status of signals on click\"\"\"\n",
    "    for i in range(HEIGHT):\n",
    "        for j in range(WIDTH):\n",
    "            if axs[i, j] == event.inaxes:\n",
    "                k = batch_id * WIDTH * HEIGHT + i * WIDTH + j\n",
    "                k = k % len(is_noise)\n",
    "                print(f\"Manual switch of track {k}\")\n",
    "                is_noise[k] = not is_noise[k]\n",
    "\n",
    "                # Replot the k\n",
    "                axs[i, j].clear()\n",
    "                axs[i, j].set_title(\"Rejected\" if is_noise[k] else \"Kept\")\n",
    "                axs[i, j].plot(raw_intensities[k] + 0.4, label=\"Raw intensity\")\n",
    "                axs[i, j].plot(detrended[k], color=colors[int(is_noise[k])], label=\"Detrended intensity\")\n",
    "                axs[i, j].legend()\n",
    "                plt.draw()\n",
    "                return\n",
    "\n",
    "\n",
    "def on_press(event):\n",
    "    \"\"\"Change the batch id with w/x\"\"\"\n",
    "    global batch_id\n",
    "\n",
    "    if event.key in \"wx\":\n",
    "        batch_id = (batch_id + (1 if event.key == \"x\" else -1)) % MAX_BATCH\n",
    "        plot()\n",
    "        fig.canvas.draw()\n",
    "\n",
    "plot()\n",
    "\n",
    "fig.canvas.mpl_connect('key_press_event', on_press)\n",
    "fig.canvas.mpl_connect('button_press_event', on_click)\n",
    "\n",
    "plt.show()"
   ]
  },
  {
   "cell_type": "code",
   "execution_count": null,
   "id": "10d1f9c3",
   "metadata": {},
   "outputs": [],
   "source": [
    "# Re-Switch to inline matplotlib\n",
    "%matplotlib inline"
   ]
  },
  {
   "cell_type": "markdown",
   "id": "d94c6f40",
   "metadata": {},
   "source": [
    "### Detrending & Smoothing"
   ]
  },
  {
   "cell_type": "code",
   "execution_count": null,
   "id": "beb267db",
   "metadata": {},
   "outputs": [],
   "source": [
    "corrected_intensities = schya.detrending.ica_decorr(raw_intensities[~is_noise], ctrl_intensities[~is_noise], 0.5, 10)"
   ]
  },
  {
   "cell_type": "code",
   "execution_count": null,
   "id": "b987eb37",
   "metadata": {},
   "outputs": [],
   "source": [
    "# Additional independent detrending to remove the remaining baseline\n",
    "# Drop baseline (period larger than 100 frames)\n",
    "\n",
    "detrended_intensities = schya.detrending.high_pass_filter(corrected_intensities, 1 / 100)"
   ]
  },
  {
   "cell_type": "code",
   "execution_count": null,
   "id": "c059a0ea",
   "metadata": {},
   "outputs": [],
   "source": [
    "# Smoothing with rolling average (the window size controls the amount of smoothing)\n",
    "\n",
    "window_size = 5\n",
    "\n",
    "calcium_signals = schya.detrending.smooth(detrended_intensities, window_size)"
   ]
  },
  {
   "cell_type": "code",
   "execution_count": null,
   "id": "c0261d78",
   "metadata": {},
   "outputs": [],
   "source": [
    "# Example of a particular neuron + 16 others\n",
    "# You can select another n_id or batch_id\n",
    "\n",
    "n_id = 50\n",
    "batch_id = 0\n",
    "\n",
    "plt.plot(raw_intensities[~is_noise][n_id] * 10 + 3, label=\"Raw\")\n",
    "plt.plot(ctrl_intensities[~is_noise][n_id] * 10 + 3, label=\"Ctrl\")\n",
    "plt.plot(corrected_intensities[n_id], label=\"ICA corrected\")\n",
    "plt.plot(detrended_intensities[n_id] - 5, label=\"Detrended\")\n",
    "plt.plot(calcium_signals[n_id] - 5, label=\"Final smoothed & detrended signal\")\n",
    "plt.legend(loc=\"upper right\", bbox_to_anchor=(1.65, 1))\n",
    "plt.show()\n",
    "\n",
    "\n",
    "fig, axs = plt.subplots(4, 4, sharex = 'col', sharey='row', figsize=(20, 20))\n",
    "\n",
    "for i in range(4):\n",
    "    for j in range(4):\n",
    "        k = batch_id * 16 + i * 4 + j\n",
    "        k = k % len(corrected_intensities)\n",
    "        \n",
    "        axs[i, j].plot(raw_intensities[~is_noise][k] * 10 + 3)\n",
    "        axs[i, j].plot(ctrl_intensities[~is_noise][k] * 10 + 3)\n",
    "        axs[i, j].plot(corrected_intensities[k])\n",
    "        axs[i, j].plot(detrended_intensities[k] - 5)\n",
    "        axs[i, j].plot(calcium_signals[k] - 5)\n",
    "        \n",
    "\n",
    "plt.show()"
   ]
  },
  {
   "cell_type": "markdown",
   "id": "c6e6a90e",
   "metadata": {},
   "source": [
    "### Spike extraction"
   ]
  },
  {
   "cell_type": "code",
   "execution_count": null,
   "id": "910b170a",
   "metadata": {},
   "outputs": [],
   "source": [
    "# Apply foopsi to extract spikes and calcium signal reconstruction\n",
    "\n",
    "calcium_reconstruction, spikes = schya.spike.foopsi_all(calcium_signals)"
   ]
  },
  {
   "cell_type": "code",
   "execution_count": null,
   "id": "c4216940",
   "metadata": {},
   "outputs": [],
   "source": [
    "# Clusterize spikes\n",
    "# You can use different std (how far the kernel will look for neighboring spikes to aggregate with the current one)\n",
    "# 5 yields pretty good results\n",
    "\n",
    "true_spikes = schya.spike.clusterize_spikes(spikes, std=5.0)"
   ]
  },
  {
   "cell_type": "code",
   "execution_count": null,
   "id": "e0097f16",
   "metadata": {},
   "outputs": [],
   "source": [
    "# Example to see how well the clustering has worked\n",
    "\n",
    "plt.plot(spikes[n_id], label=\"Spikes\")\n",
    "plt.plot(true_spikes[n_id] + 0.25, label=\"Clustered\")\n",
    "plt.legend()\n",
    "plt.show()"
   ]
  },
  {
   "cell_type": "code",
   "execution_count": null,
   "id": "08302b27",
   "metadata": {},
   "outputs": [],
   "source": [
    "# Visualize same neuron as before + 16 others\n",
    "# You can select another t_id or batch_id\n",
    "\n",
    "n_id = n_id\n",
    "batch_id = 0\n",
    "\n",
    "plt.plot(calcium_signals[n_id], label=\"Calcium signal\")\n",
    "plt.plot(calcium_reconstruction[n_id], label=\"Reconstruction\")\n",
    "plt.plot(spikes[n_id] * 7, label=\"All spikes\")\n",
    "plt.plot(true_spikes[n_id] * 7, label=\"Clustered spikes\")\n",
    "plt.legend()\n",
    "plt.show()\n",
    "\n",
    "\n",
    "fig, axs = plt.subplots(4, 4, sharex = 'col', sharey='row', figsize=(20, 20))\n",
    "\n",
    "for i in range(4):\n",
    "    for j in range(4):\n",
    "        k = batch_id * 16 + i * 4 + j\n",
    "        k = k % (len(calcium_signals))\n",
    "        axs[i, j].plot(calcium_signals[k])\n",
    "        axs[i, j].plot(calcium_reconstruction[k])\n",
    "        axs[i, j].plot(spikes[k] * 7)\n",
    "        axs[i, j].plot(true_spikes[k] * 7)\n",
    "\n",
    "plt.show()"
   ]
  },
  {
   "cell_type": "code",
   "execution_count": null,
   "id": "4de8b5d3",
   "metadata": {},
   "outputs": [],
   "source": [
    "# Filter low spikes to keep only meaningful ones\n",
    "\n",
    "# First plot all spikes\n",
    "plt.title(\"All spikes\")\n",
    "plt.xlabel(\"Frames\")\n",
    "plt.ylabel(\"Neurons\")\n",
    "binarized_spikes = true_spikes > 0\n",
    "pos = schya.spike.to_raster_pos(binarized_spikes)\n",
    "plt.eventplot(pos)\n",
    "plt.show()\n",
    "\n",
    "\n",
    "# First plot all spikes\n",
    "plt.title(\"Kept spikes\")\n",
    "plt.xlabel(\"Frames\")\n",
    "plt.ylabel(\"Neurons\")\n",
    "binarized_spikes = schya.spike.binarize_ratio(true_spikes, 0.1)\n",
    "\n",
    "pos = schya.spike.to_raster_pos(binarized_spikes)\n",
    "plt.eventplot(pos)\n",
    "plt.show()"
   ]
  },
  {
   "cell_type": "code",
   "execution_count": null,
   "id": "3db7420e",
   "metadata": {},
   "outputs": [],
   "source": [
    "# Visualize same neuron as before + 16 others\n",
    "# You can select another t_id or batch_id\n",
    "\n",
    "n_id = n_id\n",
    "batch_id = 0\n",
    "\n",
    "plt.plot(raw_intensities[~is_noise][n_id] * 10 + 3, label=\"Raw intensities (*5)\")\n",
    "plt.plot(calcium_signals[n_id], label=\"Calcium signal\")\n",
    "plt.plot(binarized_spikes[n_id] - 1, label=\"Selected spikes\")\n",
    "plt.legend()\n",
    "plt.show()\n",
    "\n",
    "\n",
    "fig, axs = plt.subplots(4, 4, sharex = 'col', sharey='row', figsize=(20, 20))\n",
    "\n",
    "for i in range(4):\n",
    "    for j in range(4):\n",
    "        k = batch_id * 16 + i * 4 + j\n",
    "        k = k % len(calcium_signals)\n",
    "        axs[i, j].plot(raw_intensities[~is_noise][k] * 10 + 3)\n",
    "        axs[i, j].plot(calcium_signals[k])\n",
    "        axs[i, j].plot(binarized_spikes[k] - 1)\n",
    "\n",
    "plt.show()"
   ]
  },
  {
   "cell_type": "code",
   "execution_count": null,
   "id": "7196939e-e32b-4f07-a7d0-661021c5b5ed",
   "metadata": {},
   "outputs": [],
   "source": [
    "# Visualize a particular neurons\n",
    "\n",
    "n_id = 4\n",
    "\n",
    "\n",
    "print(\"Spiking frame:\", np.arange(1000)[binarized_spikes[n_id] > 0] + 2)  # Add a lag of 2 frames to be on the maximum of intensity\n",
    "\n",
    "\n",
    "plt.plot(raw_intensities[~is_noise][n_id] * 10 + 3, label=\"Raw intensities (*5)\")\n",
    "plt.plot(calcium_signals[n_id], label=\"Calcium signal\")\n",
    "plt.plot(binarized_spikes[n_id] - 1, label=\"Selected spikes\")\n",
    "\n",
    "plt.plot(spikes[n_id] * 7, label=\"Selected spikes\")\n",
    "plt.legend()\n",
    "plt.show()\n",
    "\n",
    "# Interactive visu in the video of this neuron\n",
    "# Use w/x to move forward in time (or space to run/pause the video)\n",
    "# Use t to display none, green, red or both tracks\n",
    "# Use v to display none, green, red or both channels\n",
    "\n",
    "k = np.arange(len(calcium_tracks))[~is_noise][n_id]\n",
    "\n",
    "vis = schya.visualize.TwoColorInteractiveVisualizer((tdtomato_video, gcamp_video), tracks=final_tracks[k:k+1], calcium_tracks=calcium_tracks[k:k+1])\n",
    "\n",
    "vis.scale = 1  # Increase/decrease the size of the display\n",
    "vis._display_video = 3  # GCaMP\n",
    "\n",
    "vis.run()"
   ]
  }
 ],
 "metadata": {
  "kernelspec": {
   "display_name": "Python 3 (ipykernel)",
   "language": "python",
   "name": "python3"
  },
  "language_info": {
   "codemirror_mode": {
    "name": "ipython",
    "version": 3
   },
   "file_extension": ".py",
   "mimetype": "text/x-python",
   "name": "python",
   "nbconvert_exporter": "python",
   "pygments_lexer": "ipython3",
   "version": "3.10.12"
  }
 },
 "nbformat": 4,
 "nbformat_minor": 5
}
