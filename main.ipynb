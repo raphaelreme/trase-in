{
 "cells": [
  {
   "cell_type": "markdown",
   "id": "96946aee",
   "metadata": {},
   "source": [
    "# UTOPIA example notebook"
   ]
  },
  {
   "cell_type": "code",
   "execution_count": null,
   "id": "2e9da2ef",
   "metadata": {},
   "outputs": [],
   "source": [
    "import enum\n",
    "\n",
    "import cv2\n",
    "import matplotlib.pyplot as plt\n",
    "import numpy as np\n",
    "from PIL import Image\n",
    "import torch\n",
    "import tqdm\n",
    "\n",
    "import byotrack\n",
    "import byotrack.icy.io\n",
    "from byotrack.implementation.refiner.interpolater import ForwardBackwardInterpolater\n",
    "import byotrack.visualize\n",
    "\n",
    "import schya.detrending\n",
    "import schya.extraction\n",
    "import schya.filtering\n",
    "import schya.spike\n",
    "import schya.visualize\n",
    "\n",
    "TEST = False  # Will reduce the size of the video to play with"
   ]
  },
  {
   "cell_type": "markdown",
   "id": "0a070145",
   "metadata": {},
   "source": [
    "## Loading videos"
   ]
  },
  {
   "cell_type": "code",
   "execution_count": null,
   "id": "a8665582",
   "metadata": {},
   "outputs": [],
   "source": [
    "gcamp_path = \"path/to/gcamp_video\"\n",
    "tdtomato_path = \"path/to_tdtomato/video\"\n",
    "\n",
    "gcamp_video = byotrack.Video(gcamp_path)\n",
    "tdtomato_video = byotrack.Video(tdtomato_path)\n",
    "\n",
    "if TEST:\n",
    "    gcamp_video = gcamp_video[:100]\n",
    "    tdtomato_video = tdtomato_video[:100]\n",
    "\n",
    "# Normalize videos into [0, 1]\n",
    "gcamp_video.set_transform(byotrack.VideoTransformConfig(aggregate=True, normalize=True, q_min=0.02, q_max=0.995, smooth_clip=1.0))\n",
    "tdtomato_video.set_transform(byotrack.VideoTransformConfig(aggregate=True, normalize=True, q_min=0.02, q_max=0.995, smooth_clip=1.0))"
   ]
  },
  {
   "cell_type": "code",
   "execution_count": null,
   "id": "951f9a30",
   "metadata": {},
   "outputs": [],
   "source": [
    "# Display the video\n",
    "# Use w/x to move forward in time (or space to run/pause the video)\n",
    "# Use v to display none, green, red or both channels\n",
    "\n",
    "schya.visualize.TwoColorInteractiveVisualizer((tdtomato_video, gcamp_video)).run()"
   ]
  },
  {
   "cell_type": "markdown",
   "id": "66c7ad90",
   "metadata": {},
   "source": [
    "## Track TDTomato"
   ]
  },
  {
   "cell_type": "markdown",
   "id": "658a3d2d",
   "metadata": {},
   "source": [
    "### Loading saved tracks\n",
    "\n",
    "Prevents to rerun the tracking each time"
   ]
  },
  {
   "cell_type": "code",
   "execution_count": null,
   "id": "4fc98843",
   "metadata": {},
   "outputs": [],
   "source": [
    "# Reload tracks saved in the byotrack format\n",
    "\n",
    "tracks = byotrack.Track.load(\"tracks.pt\")"
   ]
  },
  {
   "cell_type": "code",
   "execution_count": null,
   "id": "40432879",
   "metadata": {},
   "outputs": [],
   "source": [
    "# Or reload tracks from Icy xml format\n",
    "\n",
    "tracks = byotrack.icy.io.load_tracks(\"tracks_tdTomato.xml\")"
   ]
  },
  {
   "cell_type": "markdown",
   "id": "b9e33768",
   "metadata": {},
   "source": [
    "### Tracking pipeline"
   ]
  },
  {
   "cell_type": "code",
   "execution_count": null,
   "id": "10153804",
   "metadata": {},
   "outputs": [],
   "source": [
    "from byotrack.implementation.detector.stardist import StarDistDetector\n",
    "from byotrack.implementation.linker.icy_emht import IcyEMHTLinker\n",
    "from byotrack.implementation.refiner.cleaner import Cleaner\n",
    "from byotrack.implementation.refiner.stitching.emc2 import EMC2Stitcher"
   ]
  },
  {
   "cell_type": "markdown",
   "id": "45fd39db",
   "metadata": {},
   "source": [
    "#### Detections"
   ]
  },
  {
   "cell_type": "code",
   "execution_count": null,
   "id": "d3d447c9",
   "metadata": {},
   "outputs": [],
   "source": [
    "model_path = \"path/to/model_folder\"\n",
    "\n",
    "detector = StarDistDetector(model_path, batch_size=1)"
   ]
  },
  {
   "cell_type": "code",
   "execution_count": null,
   "id": "9597ecd0",
   "metadata": {},
   "outputs": [],
   "source": [
    "detections_sequence = detector.run(tdtomato_video)"
   ]
  },
  {
   "cell_type": "code",
   "execution_count": null,
   "id": "de435747",
   "metadata": {},
   "outputs": [],
   "source": [
    "# Display the detections with opencv\n",
    "# Use w/x to move forward in time (or space to run/pause the video)\n",
    "# Use v to switch on/off the display of the video\n",
    "# Use d to switch detection display mode (None, mask, segmentation)\n",
    "\n",
    "byotrack.visualize.InteractiveVisualizer(tdtomato_video, detections_sequence).run()"
   ]
  },
  {
   "cell_type": "markdown",
   "id": "41fdbf2e",
   "metadata": {},
   "source": [
    "#### Build tracklets"
   ]
  },
  {
   "cell_type": "code",
   "execution_count": null,
   "id": "16011578",
   "metadata": {},
   "outputs": [],
   "source": [
    "# Run linking\n",
    "\n",
    "icy_path = \"path/to/icy.jar\"\n",
    "\n",
    "linker = IcyEMHTLinker(icy_path)\n",
    "linker.motion = linker.Motion.BROWNIAN\n",
    "tracklets = linker.run(tdtomato_video, detections_sequence)"
   ]
  },
  {
   "cell_type": "code",
   "execution_count": null,
   "id": "4cb6f07f",
   "metadata": {},
   "outputs": [],
   "source": [
    "# Visualize life span\n",
    "\n",
    "byotrack.visualize.display_lifetime(tracklets)"
   ]
  },
  {
   "cell_type": "markdown",
   "id": "41fb54d0",
   "metadata": {},
   "source": [
    "#### Tracklet stitching"
   ]
  },
  {
   "cell_type": "code",
   "execution_count": null,
   "id": "3e719847",
   "metadata": {},
   "outputs": [],
   "source": [
    "# Cleaning + EMC2\n",
    "\n",
    "cleaner = Cleaner(min_length=5, max_dist=3.5)\n",
    "tracks = cleaner.run(tdtomato_video, tracklets)\n",
    "\n",
    "stitcher = EMC2Stitcher(eta=5.0)  # Don't link tracks if they are too far (EMC dist > 5 (pixels))\n",
    "tracks = stitcher.run(tdtomato_video, tracks)"
   ]
  },
  {
   "cell_type": "code",
   "execution_count": null,
   "id": "da79f6b8",
   "metadata": {},
   "outputs": [],
   "source": [
    "# Visualize new life span\n",
    "\n",
    "byotrack.visualize.display_lifetime(tracks)"
   ]
  },
  {
   "cell_type": "code",
   "execution_count": null,
   "id": "6beda449",
   "metadata": {},
   "outputs": [],
   "source": [
    "# Save tracks\n",
    "\n",
    "byotrack.Track.save(tracks, \"tracks.pt\")  # Can be reload with byotrack.Track.load(\"tracks.pt\")"
   ]
  },
  {
   "cell_type": "markdown",
   "id": "6b5bd137",
   "metadata": {},
   "source": [
    "### Tracks visualization\n",
    "\n",
    "You can export track to icy format and visualize them with icy, or use our own tool of visualization (or build new ones in python)"
   ]
  },
  {
   "cell_type": "code",
   "execution_count": null,
   "id": "91af13b2",
   "metadata": {},
   "outputs": [],
   "source": [
    "# Export track to icy\n",
    "# Needs to fill hole in tracks before saving with Forward backward interpolator\n",
    "\n",
    "interpolater = ForwardBackwardInterpolater(method=\"constant\", full=False)\n",
    "\n",
    "byotrack.icy.io.save_tracks(interpolater.run(tdtomato_video, tracks), \"test.xml\")"
   ]
  },
  {
   "cell_type": "code",
   "execution_count": null,
   "id": "0b96903a",
   "metadata": {},
   "outputs": [],
   "source": [
    "byotrack.visualize.display_lifetime(tracks)"
   ]
  },
  {
   "cell_type": "code",
   "execution_count": null,
   "id": "63a07cc6",
   "metadata": {},
   "outputs": [],
   "source": [
    "# Display the tracks with opencv\n",
    "# Use w/x to move forward in time (or space to run/pause the video)\n",
    "# Use v (resp. t) to switch on/off the display of video (resp. tracks)\n",
    "\n",
    "# You can also give the detections_sequence object to the visualizer\n",
    "# Then, use d to switch detection display mode (None, mask, segmentation)\n",
    "\n",
    "byotrack.visualize.InteractiveVisualizer(tdtomato_video, tracks=tracks).run()"
   ]
  },
  {
   "cell_type": "markdown",
   "id": "24954ac2",
   "metadata": {},
   "source": [
    "## Calcium signal extraction"
   ]
  },
  {
   "cell_type": "markdown",
   "id": "f0411e28",
   "metadata": {},
   "source": [
    "### Select long tracks and complete them"
   ]
  },
  {
   "cell_type": "code",
   "execution_count": null,
   "id": "6be0d11e",
   "metadata": {},
   "outputs": [],
   "source": [
    "from byotrack.implementation.refiner.interpolater import ForwardBackwardInterpolater\n",
    "\n",
    "# keep only big enough tracks (Cover at least 80% of video from start to end)\n",
    "\n",
    "valid_tracks = [len(t) > 0.80 * len(tdtomato_video) for t in tracks]\n",
    "\n",
    "interpolater = ForwardBackwardInterpolater(method=\"tps\", full = True, alpha=10.0)\n",
    "final_tracks = interpolater.run(tdtomato_video, tracks)  # Interpolate using all tracks, and filter afterwards\n",
    "final_tracks = [track for i, track in enumerate(final_tracks) if valid_tracks[i]]\n",
    "\n",
    "print(f\"Kept {len(final_tracks)} valid tracks from {len(tracks)} tracks\")"
   ]
  },
  {
   "cell_type": "markdown",
   "id": "0eb72a89",
   "metadata": {},
   "source": [
    "### TdTomato control intensities extraction"
   ]
  },
  {
   "cell_type": "code",
   "execution_count": null,
   "id": "1f7a414e",
   "metadata": {},
   "outputs": [],
   "source": [
    "# Extract control intensities from tdtomato sequence\n",
    "\n",
    "ctrl_intensities = schya.extraction.extract_intensities_from_roi(tdtomato_video, final_tracks, 9)"
   ]
  },
  {
   "cell_type": "markdown",
   "id": "faa43351",
   "metadata": {},
   "source": [
    "### Extract GCsub roi tracking"
   ]
  },
  {
   "cell_type": "code",
   "execution_count": null,
   "id": "30c3c371",
   "metadata": {},
   "outputs": [],
   "source": [
    "raw_intensities, calcium_positions = schya.extraction.SubRoiExtractor(\n",
    "    gcamp_video, \n",
    "    byotrack.Track.tensorize(final_tracks).numpy(),\n",
    "    25,  # Roi size (25 x 25)\n",
    "    4,  # Max relative motion between two consecutive frames\n",
    ").compute()"
   ]
  },
  {
   "cell_type": "code",
   "execution_count": null,
   "id": "48c9f368",
   "metadata": {},
   "outputs": [],
   "source": [
    "# Build the calcium tracks for visualization\n",
    "\n",
    "calcium_tracks = []\n",
    "\n",
    "for k in range(0, len(final_tracks)):\n",
    "    calcium_tracks.append(byotrack.Track(0, torch.tensor(calcium_positions[:, k]).to(torch.float32), final_tracks[k].identifier))"
   ]
  },
  {
   "cell_type": "code",
   "execution_count": null,
   "id": "b0e734d9",
   "metadata": {},
   "outputs": [],
   "source": [
    "# Visualize the calcium tracks\n",
    "# Use w/x to move forward in time (or space to run/pause the video)\n",
    "# Use t to display none, green, red or both tracks\n",
    "# Use v to display none, green, red or both channels\n",
    "\n",
    "vis = schya.visualize.TwoColorInteractiveVisualizer((tdtomato_video, gcamp_video), tracks=final_tracks, calcium_tracks=calcium_tracks)\n",
    "\n",
    "vis.scale = 1  # Increase/decrease the size of the display\n",
    "vis._display_video = 3  # GCaMP\n",
    "\n",
    "vis.run()"
   ]
  },
  {
   "cell_type": "code",
   "execution_count": null,
   "id": "cf68fc86",
   "metadata": {},
   "outputs": [],
   "source": [
    "# Smoothing (Reduce smoothing by reducing the window size (=> 1 = no smoothing))\n",
    "\n",
    "window_size = 9\n",
    "\n",
    "smoothed_intensities = schya.extraction.smooth(raw_intensities, window_size)\n",
    "ctrl_smoothed_intensities = schya.extraction.smooth(ctrl_intensities, window_size)"
   ]
  },
  {
   "cell_type": "code",
   "execution_count": null,
   "id": "73a10986",
   "metadata": {},
   "outputs": [],
   "source": [
    "# Example of track 50 which is pretty nice + 16 others\n",
    "# You can select another t_id or batch_id\n",
    "\n",
    "t_id = 50  # 14, 50 are nice examples\n",
    "batch_id = 0\n",
    "\n",
    "plt.plot(raw_intensities[t_id], label=\"Raw\")\n",
    "plt.plot(smoothed_intensities[t_id], label=\"Smoothed\")\n",
    "plt.plot(ctrl_intensities[t_id], label=\"Ctrl\")\n",
    "plt.plot(ctrl_smoothed_intensities[t_id], label=\"Ctrl Smoothed\")\n",
    "plt.legend()\n",
    "plt.show()\n",
    "\n",
    "\n",
    "fig, axs = plt.subplots(4, 4, sharex = 'col', sharey='row', figsize=(20, 20))\n",
    "\n",
    "for i in range(4):\n",
    "    for j in range(4):\n",
    "        k = batch_id * 16 + i * 4 + j\n",
    "        axs[i, j].plot(raw_intensities[k % len(raw_intensities)])\n",
    "        axs[i, j].plot(smoothed_intensities[k % len(raw_intensities)])\n",
    "        axs[i, j].plot(ctrl_intensities[k % len(raw_intensities)])\n",
    "        axs[i, j].plot(ctrl_smoothed_intensities[k % len(raw_intensities)])\n",
    "\n",
    "plt.show()"
   ]
  },
  {
   "cell_type": "markdown",
   "id": "e91009fc",
   "metadata": {},
   "source": [
    "### Detrending"
   ]
  },
  {
   "cell_type": "code",
   "execution_count": null,
   "id": "4cc702a9",
   "metadata": {},
   "outputs": [],
   "source": [
    "corrected_intensities = schya.detrending.ica_decorr(smoothed_intensities, ctrl_smoothed_intensities, 0.5, 10)"
   ]
  },
  {
   "cell_type": "code",
   "execution_count": null,
   "id": "9a644f5d",
   "metadata": {},
   "outputs": [],
   "source": [
    "# Additional independent detrending -> either polynomial fit or Frequency filtering to remove the baseline\n",
    "\n",
    "if False:\n",
    "    detrended_intensities = schya.detrending.detrend_all(corrected_intensities, 17)\n",
    "else:\n",
    "    # Drop baseline (period larger than 100 frames)\n",
    "    detrended_intensities = schya.detrending.high_pass_filter(corrected_intensities, 1 / 100)"
   ]
  },
  {
   "cell_type": "code",
   "execution_count": null,
   "id": "e58c710a",
   "metadata": {},
   "outputs": [],
   "source": [
    "# Example of track 50 which is pretty nice + 16 others\n",
    "# You can select another t_id or batch_id\n",
    "\n",
    "t_id = t_id\n",
    "batch_id = 0\n",
    "\n",
    "plt.plot(corrected_intensities[t_id], label=\"ICA corrected\")\n",
    "plt.plot(detrended_intensities[t_id], label=\"Detrended\")\n",
    "#plt.plot(smoothed_intensities[t_id] * 10, label=\"Intensity (x10)\")\n",
    "#plt.plot(ctrl_smoothed_intensities[t_id] * 10, label=\"Control (x10)\")\n",
    "plt.legend()\n",
    "plt.show()\n",
    "\n",
    "\n",
    "fig, axs = plt.subplots(4, 4, sharex = 'col', sharey='row', figsize=(20, 20))\n",
    "\n",
    "for i in range(4):\n",
    "    for j in range(4):\n",
    "        k = batch_id * 16 + i * 4 + j\n",
    "        axs[i, j].plot(corrected_intensities[k % len(raw_intensities)])\n",
    "        axs[i, j].plot(detrended_intensities[k % len(raw_intensities)])\n",
    "\n",
    "plt.show()"
   ]
  },
  {
   "cell_type": "markdown",
   "id": "ed01fc26",
   "metadata": {},
   "source": [
    "### Filtering"
   ]
  },
  {
   "cell_type": "code",
   "execution_count": null,
   "id": "40162b12",
   "metadata": {},
   "outputs": [],
   "source": [
    "is_noise = schya.filtering.is_noise(detrended_intensities, 1e-5)\n",
    "print(f\"Found {is_noise.sum()} noise signals\")"
   ]
  },
  {
   "cell_type": "code",
   "execution_count": null,
   "id": "add569ce",
   "metadata": {},
   "outputs": [],
   "source": [
    "noise = detrended_intensities[is_noise]\n",
    "neurons = detrended_intensities[~is_noise]\n",
    "\n",
    "# Propagate t_id\n",
    "t_id = np.arange(len(neurons))[np.arange(is_noise.shape[0])[~is_noise] == t_id][0]"
   ]
  },
  {
   "cell_type": "code",
   "execution_count": null,
   "id": "139e602c",
   "metadata": {},
   "outputs": [],
   "source": [
    "# Let's see a batch of neurons vs a batch of noise\n",
    "# You can select another batch_id\n",
    "\n",
    "batch_id = 0\n",
    "\n",
    "fig, axs = plt.subplots(4, 4, sharex = 'col', sharey='row', figsize=(20, 20))\n",
    "\n",
    "for i in range(4):\n",
    "    for j in range(4):\n",
    "        k = batch_id * 16 + i * 4 + j\n",
    "        axs[i, j].plot(neurons[k % len(neurons)])\n",
    "        axs[i, j].plot(noise[k % len(noise)] - 5)\n",
    "\n",
    "plt.show()"
   ]
  },
  {
   "cell_type": "markdown",
   "id": "fee0554a",
   "metadata": {},
   "source": [
    "### Spike extraction"
   ]
  },
  {
   "cell_type": "code",
   "execution_count": null,
   "id": "3771728c",
   "metadata": {},
   "outputs": [],
   "source": [
    "# Apply foopsi to extract spikes and calcium signal reconstruction\n",
    "\n",
    "calcium_reconstruction, spikes = schya.spike.foopsi_all(neurons)"
   ]
  },
  {
   "cell_type": "code",
   "execution_count": null,
   "id": "fee07936",
   "metadata": {},
   "outputs": [],
   "source": [
    "# Clusterize spikes\n",
    "# You can use different std (how far the kernel will look for neighboring spikes to aggregate with the current one)\n",
    "# 5 yields pretty good results\n",
    "\n",
    "true_spikes = schya.spike.clusterize_spikes(spikes, std=5.0)"
   ]
  },
  {
   "cell_type": "code",
   "execution_count": null,
   "id": "53fb9b4c",
   "metadata": {},
   "outputs": [],
   "source": [
    "# Example to see how well the clustering has worked\n",
    "\n",
    "plt.plot(spikes[0], label=\"Spikes\")\n",
    "plt.plot(true_spikes[0] + 0.25, label=\"Clustered\")\n",
    "plt.legend()\n",
    "plt.show()"
   ]
  },
  {
   "cell_type": "code",
   "execution_count": null,
   "id": "8210a38f",
   "metadata": {},
   "outputs": [],
   "source": [
    "# Visualize same neuron as before + 16 others\n",
    "# You can select another t_id or batch_id\n",
    "\n",
    "t_id = t_id\n",
    "batch_id = 0\n",
    "\n",
    "plt.plot(neurons[t_id], label=\"Calcium signal\")\n",
    "plt.plot(calcium_reconstruction[t_id], label=\"Reconstruction\")\n",
    "plt.plot(spikes[t_id] * 7, label=\"All spikes\")\n",
    "plt.plot(true_spikes[t_id] * 7, label=\"Clustered spikes\")\n",
    "plt.legend()\n",
    "plt.show()\n",
    "\n",
    "\n",
    "fig, axs = plt.subplots(4, 4, sharex = 'col', sharey='row', figsize=(20, 20))\n",
    "\n",
    "for i in range(4):\n",
    "    for j in range(4):\n",
    "        k = batch_id * 16 + i * 4 + j\n",
    "        axs[i, j].plot(neurons[k % len(neurons)])\n",
    "        axs[i, j].plot(calcium_reconstruction[k % len(neurons)])\n",
    "        axs[i, j].plot(spikes[k % len(neurons)] * 7)\n",
    "        axs[i, j].plot(true_spikes[k % len(neurons)] * 7)\n",
    "\n",
    "plt.show()"
   ]
  },
  {
   "cell_type": "code",
   "execution_count": null,
   "id": "07639b78",
   "metadata": {},
   "outputs": [],
   "source": [
    "# Filter low spikes to keep only meaningful ones\n",
    "\n",
    "# First plot all spikes\n",
    "plt.title(\"All spikes\")\n",
    "plt.xlabel(\"Frames\")\n",
    "plt.ylabel(\"Neurons\")\n",
    "binarized_spikes = spikes > 0\n",
    "pos = schya.spike.to_raster_pos(binarized_spikes)\n",
    "plt.eventplot(pos)\n",
    "plt.show()\n",
    "\n",
    "\n",
    "# First plot all spikes\n",
    "plt.title(\"Kept spikes\")\n",
    "plt.xlabel(\"Frames\")\n",
    "plt.ylabel(\"Neurons\")\n",
    "binarized_spikes = schya.spike.binarize_ratio(true_spikes, 0.2)\n",
    "pos = schya.spike.to_raster_pos(binarized_spikes)\n",
    "plt.eventplot(pos)\n",
    "plt.show()"
   ]
  },
  {
   "cell_type": "code",
   "execution_count": null,
   "id": "4c0d49fc",
   "metadata": {},
   "outputs": [],
   "source": [
    "# Visualize same neuron as before + 16 others\n",
    "# You can select another t_id or batch_id\n",
    "\n",
    "t_id = t_id\n",
    "batch_id = 0\n",
    "\n",
    "plt.plot(raw_intensities[~is_noise][t_id] * 5, label=\"Raw intensities (*5)\")\n",
    "plt.plot(neurons[t_id], label=\"Calcium signal\")\n",
    "plt.plot(binarized_spikes[t_id] - 1, label=\"Selected spikes\")\n",
    "plt.legend()\n",
    "plt.show()\n",
    "\n",
    "\n",
    "fig, axs = plt.subplots(4, 4, sharex = 'col', sharey='row', figsize=(20, 20))\n",
    "\n",
    "for i in range(4):\n",
    "    for j in range(4):\n",
    "        k = batch_id * 16 + i * 4 + j\n",
    "        axs[i, j].plot(raw_intensities[~is_noise][k % len(neurons)] * 5)\n",
    "        axs[i, j].plot(neurons[k % len(neurons)])\n",
    "        axs[i, j].plot(binarized_spikes[k % len(neurons)] - 1)\n",
    "\n",
    "plt.show()"
   ]
  }
 ],
 "metadata": {
  "kernelspec": {
   "display_name": "Python 3 (ipykernel)",
   "language": "python",
   "name": "python3"
  },
  "language_info": {
   "codemirror_mode": {
    "name": "ipython",
    "version": 3
   },
   "file_extension": ".py",
   "mimetype": "text/x-python",
   "name": "python",
   "nbconvert_exporter": "python",
   "pygments_lexer": "ipython3",
   "version": "3.10.12"
  }
 },
 "nbformat": 4,
 "nbformat_minor": 5
}
