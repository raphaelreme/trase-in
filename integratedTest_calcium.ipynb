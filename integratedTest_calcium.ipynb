{
 "cells": [
  {
   "cell_type": "code",
   "execution_count": null,
   "metadata": {},
   "outputs": [],
   "source": [
    "#importing packages\n",
    "\n",
    "from SCHyA import SCHyA as hy\n",
    "import scipy.cluster.hierarchy as shc\n",
    "from sklearn.cluster import AgglomerativeClustering\n",
    "import pandas as pd\n",
    "import numpy as np\n",
    "import seaborn as sns\n",
    "import matplotlib.pyplot as plt\n",
    "\n",
    "import byotrack"
   ]
  },
  {
   "cell_type": "code",
   "execution_count": null,
   "metadata": {},
   "outputs": [],
   "source": [
    "# Reload tracks\n",
    "\n",
    "positions = byotrack.Track.tensorize(byotrack.Track.load(\"tracks.pth\")).numpy()\n",
    "positions_reshaped = np.transpose(positions, (1,0,2))"
   ]
  },
  {
   "cell_type": "code",
   "execution_count": null,
   "metadata": {},
   "outputs": [],
   "source": [
    "# Load videos\n",
    "gcamp_path = '/home/noah/Desktop/cellsegtest/segTestNew/shortStack_adjusted'\n",
    "tdtomato_path ='/home/noah/Desktop/cellsegtest/segTestNew/shortStack_adjusted'\n",
    "\n",
    "gcamp_video = byotrack.Video(gcamp_path)\n",
    "tdtomato_video = byotrack.Video(tdtomato_path)\n",
    "\n",
    "# To be deleted, we should keep clearer names\n",
    "vid = gcamp_video\n",
    "red_vid = tdtomato_video"
   ]
  },
  {
   "cell_type": "code",
   "execution_count": null,
   "metadata": {},
   "outputs": [],
   "source": [
    "positions, vid, red_vid = hy.Read_Data_TIFseq_byo(numpy_path, vid_path, red_vid_path)"
   ]
  },
  {
   "cell_type": "code",
   "execution_count": null,
   "metadata": {},
   "outputs": [],
   "source": [
    "positions_reshaped = np.transpose(positions, (1,0,2)) #https://stackoverflow.com/questions/68700008/difference-between-just-reshaping-and-reshaping-and-getting-transpose"
   ]
  },
  {
   "cell_type": "code",
   "execution_count": null,
   "metadata": {},
   "outputs": [],
   "source": [
    "# Should be useless now\n",
    "\n",
    "def npy_remove_incomplete_tracks(tracks_reshaped):\n",
    "\n",
    "    complete_tracks = []\n",
    "    incomplete_tracks = []\n",
    "    indexes = []\n",
    "\n",
    "    for i, track in enumerate(tracks_reshaped):\n",
    "        hasNaN = np.isnan(track).any()\n",
    "        if hasNaN:\n",
    "            incomplete_tracks.append(track)\n",
    "            indexes.append(i)\n",
    "        else:\n",
    "            complete_tracks.append(track)\n",
    "    \n",
    "    return np.asarray(complete_tracks)\n",
    "\n",
    "posit_corrected = npy_remove_incomplete_tracks(positions_reshaped)"
   ]
  },
  {
   "cell_type": "code",
   "execution_count": null,
   "metadata": {},
   "outputs": [],
   "source": [
    "#Extract the fluorescence intensity in the GCaMP channel throughout the video for each neuron\n",
    "\n",
    "#size of ROI\n",
    "# dim = 9\n",
    "dim=9\n",
    "# subROI_Circle_size = 4\n",
    "subROI_Circle_size = 3\n",
    "LookBack = 1 #resistance of tracking to movement i.e. how quickly a tracked neuron can move before position resets\n",
    "\n",
    "#Extract large ROI and remove points too close to edge\n",
    "intensities_raw, posit_corrected_raw = hy.Extract_Fluorescence(posit_corrected, vid, dimention = dim)\n",
    "\n",
    "#extract signal from subROI around neuron\n",
    "intensities1, posit_corrected1, neuron_pts = hy.SingleCellIntensities(vid, posit_corrected_raw, dim, subROI_Circle_size, LookBack)"
   ]
  },
  {
   "cell_type": "code",
   "execution_count": null,
   "metadata": {},
   "outputs": [],
   "source": []
  },
  {
   "cell_type": "code",
   "execution_count": null,
   "metadata": {},
   "outputs": [],
   "source": []
  },
  {
   "cell_type": "code",
   "execution_count": null,
   "metadata": {},
   "outputs": [],
   "source": [
    "# def npy_remove_incomplete_tracks(tracks):\n",
    "\n",
    "#     complete_tracks = []\n",
    "#     incomplete_tracks = []\n",
    "#     indexes = []\n",
    "\n",
    "#     for track in tracks_reshaped:\n",
    "#         hasNaN = np.isnan(tracks[:,i]).any()\n",
    "#         if hasNaN:\n",
    "#             incomplete_tracks.append(tracks[:,i])\n",
    "#             indexes.append(i)\n",
    "#         else:\n",
    "#             complete_tracks.append(tracks[:,i])\n",
    "    \n",
    "#     return complete_tracks\n",
    "\n",
    "# posit_corrected = npy_remove_incomplete_tracks(positions)"
   ]
  },
  {
   "cell_type": "code",
   "execution_count": null,
   "metadata": {},
   "outputs": [],
   "source": []
  },
  {
   "cell_type": "code",
   "execution_count": null,
   "metadata": {},
   "outputs": [],
   "source": []
  },
  {
   "cell_type": "code",
   "execution_count": null,
   "metadata": {},
   "outputs": [],
   "source": []
  },
  {
   "cell_type": "code",
   "execution_count": null,
   "metadata": {},
   "outputs": [],
   "source": []
  },
  {
   "cell_type": "code",
   "execution_count": null,
   "metadata": {},
   "outputs": [],
   "source": []
  },
  {
   "cell_type": "code",
   "execution_count": null,
   "metadata": {},
   "outputs": [],
   "source": [
    "np.isnan(tracks[:,2]).any()"
   ]
  },
  {
   "cell_type": "code",
   "execution_count": null,
   "metadata": {},
   "outputs": [],
   "source": [
    "def hasNaNs(index):\n",
    "    i = index\n",
    "    hasNaN = np.isnan(tracks[:,i]).any()\n",
    "    return hasNaN\n",
    "\n",
    "def hasNaNs2(column):\n",
    "    # i = index\n",
    "    hasNaN = np.isnan(column).any()\n",
    "    return hasNaN\n",
    "\n",
    "# any(np.isnan(tracks[:,2]))"
   ]
  },
  {
   "cell_type": "code",
   "execution_count": null,
   "metadata": {},
   "outputs": [],
   "source": [
    "complete_tracks = []\n",
    "incomplete_tracks = []\n",
    "indexes = []\n",
    "for i in range(tracks.shape[1]):\n",
    "    hasNaN = np.isnan(tracks[:,i]).any()\n",
    "    if hasNaN:\n",
    "        incomplete_tracks.append(tracks[:,i])\n",
    "        indexes.append(i)\n",
    "    else:\n",
    "        complete_tracks.append(tracks[:,i])"
   ]
  },
  {
   "cell_type": "code",
   "execution_count": null,
   "metadata": {},
   "outputs": [],
   "source": [
    "print(indexes)\n",
    "print('number Removed: ', len(indexes))\n",
    "print('num kept: ', len(complete_tracks))"
   ]
  },
  {
   "cell_type": "code",
   "execution_count": null,
   "metadata": {},
   "outputs": [],
   "source": [
    "completetracks = [hasNaNs2(track[:,i]) for  ]"
   ]
  },
  {
   "cell_type": "code",
   "execution_count": null,
   "metadata": {},
   "outputs": [],
   "source": [
    "print(tracks.shape)\n",
    "\n",
    "df = pd.DataFrame(data = tracks.tolist())"
   ]
  },
  {
   "cell_type": "code",
   "execution_count": null,
   "metadata": {},
   "outputs": [],
   "source": [
    "df"
   ]
  },
  {
   "cell_type": "code",
   "execution_count": null,
   "metadata": {},
   "outputs": [],
   "source": [
    "df.apply(hasNaNs2, axis=0)"
   ]
  },
  {
   "cell_type": "code",
   "execution_count": null,
   "metadata": {},
   "outputs": [],
   "source": [
    "df.columns[df.isna().any()].tolist()"
   ]
  },
  {
   "cell_type": "code",
   "execution_count": null,
   "metadata": {},
   "outputs": [],
   "source": [
    "num_frames = tracks.shape[1]"
   ]
  },
  {
   "cell_type": "code",
   "execution_count": null,
   "metadata": {},
   "outputs": [],
   "source": [
    "#reshape tracks\n",
    "posit_corrected = hy.remove_incomplete_tracks(tracks, num_frames)"
   ]
  },
  {
   "cell_type": "code",
   "execution_count": null,
   "metadata": {},
   "outputs": [],
   "source": [
    "len(posit_corrected)"
   ]
  },
  {
   "cell_type": "code",
   "execution_count": null,
   "metadata": {},
   "outputs": [],
   "source": []
  },
  {
   "cell_type": "code",
   "execution_count": null,
   "metadata": {},
   "outputs": [],
   "source": [
    "positions = (pd.read_csv(csv_path,usecols=['TrackID','t','x','y']))\n",
    "\n",
    "trackIDs = positions.TrackID.unique()\n",
    "grouped = positions.groupby(['TrackID'])\n",
    "\n",
    "posit = np.asanyarray([grouped.get_group(neuron).loc[:, ['x', 'y']].values for neuron in trackIDs], dtype='object')"
   ]
  },
  {
   "cell_type": "code",
   "execution_count": null,
   "metadata": {},
   "outputs": [],
   "source": [
    "posit[0]"
   ]
  },
  {
   "cell_type": "code",
   "execution_count": null,
   "metadata": {},
   "outputs": [],
   "source": [
    "positions = pd.read_csv(csv_path, dtype = 'object', converters={'0': pd.eval})\n",
    "# positions.drop(positions.columns[0], axis=1, inplace=True)\n",
    "\n",
    "positions"
   ]
  },
  {
   "cell_type": "code",
   "execution_count": null,
   "metadata": {},
   "outputs": [],
   "source": [
    "from ast import literal_eval\n"
   ]
  },
  {
   "cell_type": "code",
   "execution_count": null,
   "metadata": {},
   "outputs": [],
   "source": [
    "posit_corrected = complete_tracks"
   ]
  },
  {
   "cell_type": "code",
   "execution_count": null,
   "metadata": {},
   "outputs": [],
   "source": [
    "len(posit_corrected)"
   ]
  },
  {
   "cell_type": "code",
   "execution_count": null,
   "metadata": {},
   "outputs": [],
   "source": [
    "_, red, green = hy.Read_Data_TIFseq(vid_path, red_vid_path, csv_path)"
   ]
  }
 ],
 "metadata": {
  "kernelspec": {
   "display_name": "caiman",
   "language": "python",
   "name": "python3"
  },
  "language_info": {
   "codemirror_mode": {
    "name": "ipython",
    "version": 3
   },
   "file_extension": ".py",
   "mimetype": "text/x-python",
   "name": "python",
   "nbconvert_exporter": "python",
   "pygments_lexer": "ipython3",
   "version": "3.10.8"
  },
  "orig_nbformat": 4
 },
 "nbformat": 4,
 "nbformat_minor": 2
}
